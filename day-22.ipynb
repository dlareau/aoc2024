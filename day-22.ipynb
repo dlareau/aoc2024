{
 "cells": [
  {
   "cell_type": "code",
   "execution_count": 1,
   "id": "91ad0639",
   "metadata": {},
   "outputs": [],
   "source": [
    "import aocd\n",
    "import re\n",
    "from functools import cache\n",
    "import itertools\n",
    "%run helper.ipynb\n",
    "puzzle = aocd.models.Puzzle(year=2024, day=22)\n",
    "data = puzzle.input_data"
   ]
  },
  {
   "cell_type": "code",
   "execution_count": 10,
   "id": "b472a16b",
   "metadata": {},
   "outputs": [],
   "source": [
    "inputs = [int(d) for d in data.split(\"\\n\")]"
   ]
  },
  {
   "cell_type": "code",
   "execution_count": 8,
   "id": "95f7e564",
   "metadata": {},
   "outputs": [],
   "source": [
    "def step(secret):\n",
    "    mult = secret * 64\n",
    "    secret = (mult ^ secret) % 16777216\n",
    "    div = secret // 32\n",
    "    secret = (div ^ secret) % 16777216\n",
    "    mult2 = secret * 2048\n",
    "    secret = (mult2 ^ secret) % 16777216\n",
    "    return secret\n",
    "\n",
    "def multi_step(secret, count):\n",
    "    for i in range(count):\n",
    "        secret = step(secret)\n",
    "    return secret"
   ]
  },
  {
   "cell_type": "code",
   "execution_count": 9,
   "id": "4b296479",
   "metadata": {},
   "outputs": [
    {
     "data": {
      "text/plain": [
       "8685429"
      ]
     },
     "execution_count": 9,
     "metadata": {},
     "output_type": "execute_result"
    }
   ],
   "source": [
    "multi_step(1, 2000)"
   ]
  },
  {
   "cell_type": "code",
   "execution_count": 13,
   "id": "cf711c1f",
   "metadata": {},
   "outputs": [],
   "source": [
    "puzzle.answer_a = sum([multi_step(i, 2000) for i in inputs])"
   ]
  },
  {
   "cell_type": "code",
   "execution_count": null,
   "id": "deac7bda",
   "metadata": {},
   "outputs": [],
   "source": []
  }
 ],
 "metadata": {
  "kernelspec": {
   "display_name": "Python 3 (ipykernel)",
   "language": "python",
   "name": "python3"
  },
  "language_info": {
   "codemirror_mode": {
    "name": "ipython",
    "version": 3
   },
   "file_extension": ".py",
   "mimetype": "text/x-python",
   "name": "python",
   "nbconvert_exporter": "python",
   "pygments_lexer": "ipython3",
   "version": "3.11.0"
  }
 },
 "nbformat": 4,
 "nbformat_minor": 5
}
