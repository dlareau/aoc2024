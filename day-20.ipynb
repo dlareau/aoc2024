{
 "cells": [
  {
   "cell_type": "code",
   "execution_count": 1,
   "id": "a77923a7",
   "metadata": {},
   "outputs": [],
   "source": [
    "import aocd\n",
    "import re\n",
    "import numpy as np\n",
    "from functools import cache\n",
    "%run helper.ipynb\n",
    "puzzle = aocd.models.Puzzle(year=2024, day=20)\n",
    "data = puzzle.input_data"
   ]
  },
  {
   "cell_type": "code",
   "execution_count": 2,
   "id": "a8ca26a5",
   "metadata": {},
   "outputs": [],
   "source": [
    "grid = Grid(data, str)"
   ]
  },
  {
   "cell_type": "code",
   "execution_count": 3,
   "id": "f2b7ffa6",
   "metadata": {},
   "outputs": [],
   "source": [
    "def find_path(grid):\n",
    "    current = tuple(np.transpose(np.where(grid == \"S\"))[0])\n",
    "    last = (0, 0)\n",
    "    path = []\n",
    "    while grid[*current] != \"E\":\n",
    "        sides = grid.sides(current)\n",
    "        n = [s for s in sides if grid[*s] != \"#\" and s != last][0]\n",
    "        path.append(Point2D(current))\n",
    "        last = current\n",
    "        current = n\n",
    "    path.append(Point2D(current))\n",
    "    return path\n",
    "\n",
    "directions = [\n",
    "    Point2D((0, 1)),\n",
    "    Point2D((0, -1)),\n",
    "    Point2D((1, 0)),\n",
    "    Point2D((-1, 0))\n",
    "]\n",
    "\n",
    "def find_shortcuts(path, grid, sc_len):\n",
    "    shortcuts = []\n",
    "    for i in range(len(path) - 2):\n",
    "        p1 = path[i]\n",
    "        for j in range(i+1, len(path)):\n",
    "            p2 = path[j]\n",
    "            dist = p1.m_dist(p2)\n",
    "            skip = j - i\n",
    "            if dist <= sc_len and skip > dist:\n",
    "                shortcuts.append(((p1, p2), skip - dist))\n",
    "    return shortcuts"
   ]
  },
  {
   "cell_type": "code",
   "execution_count": 4,
   "id": "06f873b9",
   "metadata": {},
   "outputs": [],
   "source": [
    "path = find_path(grid)"
   ]
  },
  {
   "cell_type": "code",
   "execution_count": 5,
   "id": "591f450f",
   "metadata": {},
   "outputs": [],
   "source": [
    "shortcuts = find_shortcuts(path, grid, 2)\n",
    "puzzle.answer_a = len([s for s in shortcuts if s[1] >= 100])"
   ]
  },
  {
   "cell_type": "code",
   "execution_count": 6,
   "id": "6d804c69",
   "metadata": {},
   "outputs": [],
   "source": [
    "shortcuts = find_shortcuts(path, grid, 20)\n",
    "puzzle.answer_b = len([s for s in shortcuts if s[1] >= 100])"
   ]
  },
  {
   "cell_type": "code",
   "execution_count": null,
   "id": "cbe1afe4",
   "metadata": {},
   "outputs": [],
   "source": []
  }
 ],
 "metadata": {
  "kernelspec": {
   "display_name": "Python 3 (ipykernel)",
   "language": "python",
   "name": "python3"
  },
  "language_info": {
   "codemirror_mode": {
    "name": "ipython",
    "version": 3
   },
   "file_extension": ".py",
   "mimetype": "text/x-python",
   "name": "python",
   "nbconvert_exporter": "python",
   "pygments_lexer": "ipython3",
   "version": "3.11.0"
  }
 },
 "nbformat": 4,
 "nbformat_minor": 5
}
