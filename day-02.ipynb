{
 "cells": [
  {
   "cell_type": "code",
   "execution_count": 1,
   "id": "d3c2d39d",
   "metadata": {},
   "outputs": [],
   "source": [
    "import aocd\n",
    "import re\n",
    "import numpy as np\n",
    "%run helper.ipynb\n",
    "puzzle = aocd.models.Puzzle(year=2024, day=2)\n",
    "data = puzzle.input_data"
   ]
  },
  {
   "cell_type": "code",
   "execution_count": 2,
   "id": "e97be2cf",
   "metadata": {},
   "outputs": [],
   "source": [
    "reports = data.split(\"\\n\")"
   ]
  },
  {
   "cell_type": "code",
   "execution_count": 3,
   "id": "bc5b7960",
   "metadata": {},
   "outputs": [],
   "source": [
    "levels = [list(map(int, report.split(\" \"))) for report in reports]"
   ]
  },
  {
   "cell_type": "code",
   "execution_count": 4,
   "id": "0d3f488a",
   "metadata": {},
   "outputs": [],
   "source": [
    "def safe(level):\n",
    "    direction = None\n",
    "    for i in range(len(level) - 1):\n",
    "        diff = abs(level[i] - level[i+1])\n",
    "        curr_direction = \"up\" if level[i] < level[i+1] else \"down\"\n",
    "        if direction == None:\n",
    "            direction = curr_direction\n",
    "        if direction != curr_direction or diff < 1 or diff > 3:\n",
    "            return False\n",
    "    return True"
   ]
  },
  {
   "cell_type": "code",
   "execution_count": 5,
   "id": "10662082",
   "metadata": {},
   "outputs": [],
   "source": [
    "puzzle.answer_a = sum(map(safe, levels))"
   ]
  },
  {
   "cell_type": "code",
   "execution_count": 6,
   "id": "4a130712",
   "metadata": {},
   "outputs": [],
   "source": [
    "def wrapper(level):\n",
    "    for i in range(len(level)):\n",
    "        if safe(level[:i] + level[i+1:]):\n",
    "            return True\n",
    "    return False"
   ]
  },
  {
   "cell_type": "code",
   "execution_count": 7,
   "id": "031b2c88",
   "metadata": {},
   "outputs": [],
   "source": [
    "puzzle.answer_b = sum(map(wrapper, levels))"
   ]
  },
  {
   "cell_type": "code",
   "execution_count": null,
   "id": "979cd7ba",
   "metadata": {},
   "outputs": [],
   "source": []
  }
 ],
 "metadata": {
  "kernelspec": {
   "display_name": "Python 3 (ipykernel)",
   "language": "python",
   "name": "python3"
  },
  "language_info": {
   "codemirror_mode": {
    "name": "ipython",
    "version": 3
   },
   "file_extension": ".py",
   "mimetype": "text/x-python",
   "name": "python",
   "nbconvert_exporter": "python",
   "pygments_lexer": "ipython3",
   "version": "3.11.0"
  }
 },
 "nbformat": 4,
 "nbformat_minor": 5
}
