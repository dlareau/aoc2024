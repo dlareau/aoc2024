{
 "cells": [
  {
   "cell_type": "code",
   "execution_count": 1,
   "id": "4d0993f9",
   "metadata": {},
   "outputs": [],
   "source": [
    "import aocd\n",
    "import re\n",
    "import numpy as np\n",
    "%run helper.ipynb\n",
    "puzzle = aocd.models.Puzzle(year=2024, day=7)\n",
    "data = puzzle.input_data"
   ]
  },
  {
   "cell_type": "code",
   "execution_count": 2,
   "id": "712cbecc",
   "metadata": {},
   "outputs": [],
   "source": [
    "lines = [x.split(\": \") for x in data.split(\"\\n\")]\n",
    "lines = [(int(x), list(map(int, y.split(\" \")))) for x,y in lines]"
   ]
  },
  {
   "cell_type": "code",
   "execution_count": 3,
   "id": "eb2c47c5",
   "metadata": {},
   "outputs": [],
   "source": [
    "def evaluate(a, b, op):\n",
    "    if op == \"+\":\n",
    "        return a + b\n",
    "    elif op == \"*\":\n",
    "        return a * b\n",
    "    elif op == \"||\":\n",
    "        return int(str(a) + str(b))\n",
    "    else:\n",
    "        raise Exception(\"bad op\")\n",
    "    \n",
    "\n",
    "def check_operators(result, values):\n",
    "    if len(values) == 1:\n",
    "        return values[0] == result\n",
    "    if values[0] > result:\n",
    "        return False\n",
    "    a = check_operators(result, [evaluate(values[0], values[1], \"+\")] + values[2:])\n",
    "    b = check_operators(result, [evaluate(values[0], values[1], \"*\")] + values[2:])\n",
    "    return a or b\n",
    "\n",
    "def check_operators_part_b(result, values):\n",
    "    if len(values) == 1:\n",
    "        return values[0] == result\n",
    "    if values[0] > result:\n",
    "        return False\n",
    "    a = check_operators_part_b(result, [evaluate(values[0], values[1], \"+\")] + values[2:])\n",
    "    b = check_operators_part_b(result, [evaluate(values[0], values[1], \"*\")] + values[2:])\n",
    "    c = check_operators_part_b(result, [evaluate(values[0], values[1], \"||\")] + values[2:])\n",
    "    return a or b or c"
   ]
  },
  {
   "cell_type": "code",
   "execution_count": 4,
   "id": "69391b46",
   "metadata": {},
   "outputs": [],
   "source": [
    "puzzle.answer_a = sum([line[0] for line in lines if check_operators(*line)])"
   ]
  },
  {
   "cell_type": "code",
   "execution_count": 5,
   "id": "388d1e7e",
   "metadata": {
    "scrolled": true
   },
   "outputs": [],
   "source": [
    "puzzle.answer_b = sum([line[0] for line in lines if check_operators_part_b(*line)])"
   ]
  },
  {
   "cell_type": "code",
   "execution_count": null,
   "id": "540f6ee9",
   "metadata": {},
   "outputs": [],
   "source": []
  }
 ],
 "metadata": {
  "kernelspec": {
   "display_name": "Python 3 (ipykernel)",
   "language": "python",
   "name": "python3"
  },
  "language_info": {
   "codemirror_mode": {
    "name": "ipython",
    "version": 3
   },
   "file_extension": ".py",
   "mimetype": "text/x-python",
   "name": "python",
   "nbconvert_exporter": "python",
   "pygments_lexer": "ipython3",
   "version": "3.11.0"
  }
 },
 "nbformat": 4,
 "nbformat_minor": 5
}
