{
 "cells": [
  {
   "cell_type": "code",
   "execution_count": 45,
   "id": "7b60f822",
   "metadata": {},
   "outputs": [],
   "source": [
    "import aocd\n",
    "import networkx as nx\n",
    "puzzle = aocd.models.Puzzle(year=2024, day=18)\n",
    "data = puzzle.input_data\n",
    "size = 71"
   ]
  },
  {
   "cell_type": "code",
   "execution_count": 46,
   "id": "cdaaa50b",
   "metadata": {},
   "outputs": [],
   "source": [
    "coords = [tuple(map(int, x.split(\",\"))) for x in data.split(\"\\n\")]"
   ]
  },
  {
   "cell_type": "code",
   "execution_count": 47,
   "id": "39c927ee",
   "metadata": {},
   "outputs": [],
   "source": [
    "graph = nx.grid_2d_graph(size, size)\n",
    "for c in coords[:1024]:\n",
    "    graph.remove_node(c)\n",
    "puzzle.answer_a = nx.shortest_path_length(graph, (0,0), (size-1, size-1))"
   ]
  },
  {
   "cell_type": "code",
   "execution_count": 48,
   "id": "851ff4c1",
   "metadata": {},
   "outputs": [
    {
     "name": "stdout",
     "output_type": "stream",
     "text": [
      "\u001b[31mPart b already solved with different answer: 16,46\u001b[0m\n"
     ]
    }
   ],
   "source": [
    "coord_string = \"\"\n",
    "for c in coords[num_bytes:]:\n",
    "    graph.remove_node(c)\n",
    "    try:\n",
    "        nx.shortest_path_length(graph, (0,0), (size-1, size-1))\n",
    "    except nx.NetworkXNoPath:\n",
    "        coord_string = f\"{c[1]},{c[0]}\" # flip them back\n",
    "        break\n",
    "puzzle.answer_b = coord_string"
   ]
  },
  {
   "cell_type": "code",
   "execution_count": null,
   "id": "aaf6e116",
   "metadata": {},
   "outputs": [],
   "source": []
  }
 ],
 "metadata": {
  "kernelspec": {
   "display_name": "Python 3 (ipykernel)",
   "language": "python",
   "name": "python3"
  },
  "language_info": {
   "codemirror_mode": {
    "name": "ipython",
    "version": 3
   },
   "file_extension": ".py",
   "mimetype": "text/x-python",
   "name": "python",
   "nbconvert_exporter": "python",
   "pygments_lexer": "ipython3",
   "version": "3.11.0"
  }
 },
 "nbformat": 4,
 "nbformat_minor": 5
}
