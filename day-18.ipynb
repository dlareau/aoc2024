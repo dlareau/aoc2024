{
 "cells": [
  {
   "cell_type": "code",
   "execution_count": 5,
   "id": "86e57bc2",
   "metadata": {},
   "outputs": [],
   "source": [
    "import aocd\n",
    "import networkx as nx\n",
    "puzzle = aocd.models.Puzzle(year=2024, day=18)\n",
    "data = puzzle.input_data\n",
    "size = 71"
   ]
  },
  {
   "cell_type": "code",
   "execution_count": 6,
   "id": "8c066a44",
   "metadata": {},
   "outputs": [],
   "source": [
    "coords = [tuple(map(int, x.split(\",\"))) for x in data.split(\"\\n\")]"
   ]
  },
  {
   "cell_type": "code",
   "execution_count": 7,
   "id": "1533422b",
   "metadata": {},
   "outputs": [],
   "source": [
    "graph = nx.grid_2d_graph(size, size)\n",
    "for c in coords[:1024]:\n",
    "    graph.remove_node(c)\n",
    "puzzle.answer_a = nx.shortest_path_length(graph, (0,0), (size-1, size-1))"
   ]
  },
  {
   "cell_type": "code",
   "execution_count": 8,
   "id": "ba5d2cec",
   "metadata": {},
   "outputs": [],
   "source": [
    "coord_string = \"\"\n",
    "for c in coords[1024:]:\n",
    "    graph.remove_node(c)\n",
    "    try:\n",
    "        nx.shortest_path_length(graph, (0,0), (size-1, size-1))\n",
    "    except nx.NetworkXNoPath:\n",
    "        coord_string = f\"{c[0]},{c[1]}\" # flip them back\n",
    "        break\n",
    "puzzle.answer_b = coord_string"
   ]
  },
  {
   "cell_type": "code",
   "execution_count": null,
   "id": "9b2379b3",
   "metadata": {},
   "outputs": [],
   "source": []
  }
 ],
 "metadata": {
  "kernelspec": {
   "display_name": "Python 3 (ipykernel)",
   "language": "python",
   "name": "python3"
  },
  "language_info": {
   "codemirror_mode": {
    "name": "ipython",
    "version": 3
   },
   "file_extension": ".py",
   "mimetype": "text/x-python",
   "name": "python",
   "nbconvert_exporter": "python",
   "pygments_lexer": "ipython3",
   "version": "3.11.0"
  }
 },
 "nbformat": 4,
 "nbformat_minor": 5
}
