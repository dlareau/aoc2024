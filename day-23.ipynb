{
 "cells": [
  {
   "cell_type": "code",
   "execution_count": 1,
   "id": "95e8f8b5",
   "metadata": {},
   "outputs": [],
   "source": [
    "import aocd\n",
    "import networkx as nx\n",
    "%run helper.ipynb\n",
    "puzzle = aocd.models.Puzzle(year=2024, day=23)\n",
    "data = puzzle.input_data"
   ]
  },
  {
   "cell_type": "code",
   "execution_count": 2,
   "id": "1399e8bd",
   "metadata": {},
   "outputs": [],
   "source": [
    "edges = [tuple(c.split(\"-\")) for c in data.split(\"\\n\")]\n",
    "graph = nx.Graph()\n",
    "for e in edges:\n",
    "    graph.add_edge(e[0], e[1])"
   ]
  },
  {
   "cell_type": "code",
   "execution_count": 3,
   "id": "467d953c",
   "metadata": {},
   "outputs": [],
   "source": [
    "cliques = nx.enumerate_all_cliques(graph)\n",
    "s = 0\n",
    "for c in cliques:\n",
    "    if len(c) == 3 and any([(n[0] == \"t\") for n in c]):\n",
    "        s += 1\n",
    "    if len(c) > 3:\n",
    "        break\n",
    "puzzle.answer_a = s"
   ]
  },
  {
   "cell_type": "code",
   "execution_count": 4,
   "id": "68524cbc",
   "metadata": {},
   "outputs": [],
   "source": [
    "cliques = nx.find_cliques(graph)\n",
    "largest_clique = max(cliques, key=len)\n",
    "puzzle.answer_b = \",\".join(sorted(largest_clique))"
   ]
  },
  {
   "cell_type": "code",
   "execution_count": null,
   "id": "51bedede",
   "metadata": {},
   "outputs": [],
   "source": []
  },
  {
   "cell_type": "code",
   "execution_count": 5,
   "id": "5a80b2ec",
   "metadata": {},
   "outputs": [
    {
     "data": {
      "text/plain": [
       "1423"
      ]
     },
     "execution_count": 5,
     "metadata": {},
     "output_type": "execute_result"
    }
   ],
   "source": [
    "# Original part a using cycles (slow)\n",
    "cycles = nx.simple_cycles(graph, length_bound=3)\n",
    "cycles = [c for c in cycles if any([(n[0] == \"t\") for n in c])]\n",
    "len(cycles)"
   ]
  },
  {
   "cell_type": "code",
   "execution_count": 6,
   "id": "cf7c0e92",
   "metadata": {},
   "outputs": [
    {
     "name": "stdout",
     "output_type": "stream",
     "text": [
      "1423\n"
     ]
    }
   ],
   "source": [
    "# Manual part A solution (for the historical record)\n",
    "comp_set = set()\n",
    "for c1 in edges:\n",
    "    for c2 in edges:\n",
    "        if c1 == c2:\n",
    "            continue\n",
    "        if not(\"t\" == c1[0][0] or \"t\" == c1[1][0] or \"t\" == c2[0][0] or \"t\" == c2[1][0]):\n",
    "            continue\n",
    "        if c1[0] == c2[0] and ((c2[1], c1[1]) in edges or (c1[1], c2[1]) in edges):\n",
    "            comp_set.add(tuple(sorted((c1[1], c2[0], c2[1]))))\n",
    "        elif c1[0] == c2[1] and ((c2[0], c1[1]) in edges or (c1[1], c2[0]) in edges):\n",
    "            comp_set.add(tuple(sorted((c2[0], c2[1], c1[1]))))\n",
    "        elif c1[1] == c2[0] and ((c2[1], c1[0]) in edges or (c1[0], c2[1]) in edges):\n",
    "            comp_set.add(tuple(sorted((c1[0], c2[0], c2[1]))))\n",
    "        elif c1[1] == c2[1] and ((c2[0], c1[0]) in edges or (c1[0], c2[0]) in edges):\n",
    "            comp_set.add(tuple(sorted((c2[0], c2[1], c1[0]))))\n",
    "print(len(comp_set))"
   ]
  },
  {
   "cell_type": "code",
   "execution_count": null,
   "id": "9dbe0ccd",
   "metadata": {},
   "outputs": [],
   "source": []
  }
 ],
 "metadata": {
  "kernelspec": {
   "display_name": "Python 3 (ipykernel)",
   "language": "python",
   "name": "python3"
  },
  "language_info": {
   "codemirror_mode": {
    "name": "ipython",
    "version": 3
   },
   "file_extension": ".py",
   "mimetype": "text/x-python",
   "name": "python",
   "nbconvert_exporter": "python",
   "pygments_lexer": "ipython3",
   "version": "3.11.0"
  }
 },
 "nbformat": 4,
 "nbformat_minor": 5
}
