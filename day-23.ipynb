{
 "cells": [
  {
   "cell_type": "code",
   "execution_count": 1,
   "id": "95e8f8b5",
   "metadata": {},
   "outputs": [],
   "source": [
    "import aocd\n",
    "import networkx as nx\n",
    "%run helper.ipynb\n",
    "puzzle = aocd.models.Puzzle(year=2024, day=23)\n",
    "data = puzzle.input_data"
   ]
  },
  {
   "cell_type": "code",
   "execution_count": 2,
   "id": "1399e8bd",
   "metadata": {},
   "outputs": [],
   "source": [
    "edges = [tuple(c.split(\"-\")) for c in data.split(\"\\n\")]\n",
    "graph = nx.Graph()\n",
    "for e in edges:\n",
    "    graph.add_edge(e[0], e[1])"
   ]
  },
  {
   "cell_type": "code",
   "execution_count": 3,
   "id": "467d953c",
   "metadata": {},
   "outputs": [],
   "source": [
    "cycles = nx.simple_cycles(graph, length_bound=3)\n",
    "cycles = [c for c in cycles if any([(n[0] == \"t\") for n in c])]\n",
    "puzzle.answer_a = len(cycles)"
   ]
  },
  {
   "cell_type": "code",
   "execution_count": 4,
   "id": "68524cbc",
   "metadata": {},
   "outputs": [],
   "source": [
    "cliques = nx.find_cliques(graph)\n",
    "largest_clique = max(cliques, key=len)"
   ]
  },
  {
   "cell_type": "code",
   "execution_count": 5,
   "id": "6fc20b6f",
   "metadata": {},
   "outputs": [],
   "source": [
    "puzzle.answer_b = \",\".join(sorted(largest_clique))"
   ]
  },
  {
   "cell_type": "code",
   "execution_count": null,
   "id": "c59b5885",
   "metadata": {},
   "outputs": [],
   "source": []
  },
  {
   "cell_type": "code",
   "execution_count": null,
   "id": "cf7c0e92",
   "metadata": {},
   "outputs": [],
   "source": [
    "# Faster but longer part A solution (for the historical record)\n",
    "comp_set = set()\n",
    "for c1 in edges:\n",
    "    for c2 in edges:\n",
    "        if c1 == c2:\n",
    "            continue\n",
    "        if not(\"t\" == c1[0][0] or \"t\" == c1[1][0] or \"t\" == c2[0][0] or \"t\" == c2[1][0]):\n",
    "            continue\n",
    "        if c1[0] == c2[0] and ((c2[1], c1[1]) in cons or (c1[1], c2[1]) in edges):\n",
    "            comp_set.add(tuple(sorted((c1[1], c2[0], c2[1]))))\n",
    "        elif c1[0] == c2[1] and ((c2[0], c1[1]) in cons or (c1[1], c2[0]) in edges):\n",
    "            comp_set.add(tuple(sorted((c2[0], c2[1], c1[1]))))\n",
    "        elif c1[1] == c2[0] and ((c2[1], c1[0]) in cons or (c1[0], c2[1]) in edges):\n",
    "            comp_set.add(tuple(sorted((c1[0], c2[0], c2[1]))))\n",
    "        elif c1[1] == c2[1] and ((c2[0], c1[0]) in cons or (c1[0], c2[0]) in edges):\n",
    "            comp_set.add(tuple(sorted((c2[0], c2[1], c1[0]))))\n",
    "print(len(comp_set))"
   ]
  }
 ],
 "metadata": {
  "kernelspec": {
   "display_name": "Python 3 (ipykernel)",
   "language": "python",
   "name": "python3"
  },
  "language_info": {
   "codemirror_mode": {
    "name": "ipython",
    "version": 3
   },
   "file_extension": ".py",
   "mimetype": "text/x-python",
   "name": "python",
   "nbconvert_exporter": "python",
   "pygments_lexer": "ipython3",
   "version": "3.11.0"
  }
 },
 "nbformat": 4,
 "nbformat_minor": 5
}
