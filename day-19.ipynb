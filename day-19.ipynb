{
 "cells": [
  {
   "cell_type": "code",
   "execution_count": 1,
   "id": "a4ac6269",
   "metadata": {},
   "outputs": [],
   "source": [
    "import aocd\n",
    "import re\n",
    "import numpy as np\n",
    "from functools import cache\n",
    "%run helper.ipynb\n",
    "puzzle = aocd.models.Puzzle(year=2024, day=19)\n",
    "data = puzzle.input_data"
   ]
  },
  {
   "cell_type": "code",
   "execution_count": 2,
   "id": "cbe257f4",
   "metadata": {},
   "outputs": [],
   "source": [
    "towels, patterns = data.split(\"\\n\\n\")\n",
    "towels = tuple(towels.split(\", \"))\n",
    "patterns = patterns.split(\"\\n\")"
   ]
  },
  {
   "cell_type": "code",
   "execution_count": 3,
   "id": "0d2c6d36",
   "metadata": {},
   "outputs": [],
   "source": [
    "# Original part A function for posterity\n",
    "def check_pattern(pattern, towels):\n",
    "    for towel in towels:\n",
    "        if pattern.startswith(towel) and (pattern[len(towel):] == \"\" or\n",
    "            check_pattern(pattern[len(towel):], towels)):\n",
    "            return True\n",
    "    return False\n",
    "\n",
    "@cache\n",
    "def num_ways(pattern, towels):\n",
    "    s = 0\n",
    "    for towel in towels:\n",
    "        if pattern.startswith(towel):\n",
    "            if pattern[len(towel):] == \"\":\n",
    "                s += 1\n",
    "            else:\n",
    "                s += num_ways(pattern[len(towel):], towels)\n",
    "    return s"
   ]
  },
  {
   "cell_type": "code",
   "execution_count": 4,
   "id": "beabdb91",
   "metadata": {},
   "outputs": [],
   "source": [
    "puzzle.answer_a = sum([num_ways(p, towels) > 0 for p in patterns])"
   ]
  },
  {
   "cell_type": "code",
   "execution_count": 5,
   "id": "d2772b45",
   "metadata": {},
   "outputs": [],
   "source": [
    "puzzle.answer_b = sum([num_ways(p, towels) for p in patterns])"
   ]
  },
  {
   "cell_type": "code",
   "execution_count": null,
   "id": "f4d732f8",
   "metadata": {},
   "outputs": [],
   "source": []
  }
 ],
 "metadata": {
  "kernelspec": {
   "display_name": "Python 3 (ipykernel)",
   "language": "python",
   "name": "python3"
  },
  "language_info": {
   "codemirror_mode": {
    "name": "ipython",
    "version": 3
   },
   "file_extension": ".py",
   "mimetype": "text/x-python",
   "name": "python",
   "nbconvert_exporter": "python",
   "pygments_lexer": "ipython3",
   "version": "3.11.0"
  }
 },
 "nbformat": 4,
 "nbformat_minor": 5
}
