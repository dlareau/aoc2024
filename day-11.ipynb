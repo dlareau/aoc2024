{
 "cells": [
  {
   "cell_type": "code",
   "execution_count": 36,
   "id": "2a94e32c",
   "metadata": {},
   "outputs": [],
   "source": [
    "import aocd\n",
    "import re\n",
    "import numpy as np\n",
    "from collections import defaultdict\n",
    "%run helper.ipynb\n",
    "puzzle = aocd.models.Puzzle(year=2024, day=11)\n",
    "data = puzzle.input_data"
   ]
  },
  {
   "cell_type": "code",
   "execution_count": 51,
   "id": "c513e11e",
   "metadata": {},
   "outputs": [],
   "source": [
    "def transform(stone):\n",
    "    if stone == 0:\n",
    "        return [1]\n",
    "    s = str(stone)\n",
    "    if len(s) % 2 == 0:\n",
    "        return [int(s[:(len(s)//2)]), int(s[(len(s)//2):])]\n",
    "    return [stone * 2024]\n",
    "\n",
    "def blink(stone_counts):\n",
    "    new_stone_counts = defaultdict(int)\n",
    "    for stone in stone_counts:\n",
    "        results = transform(stone)\n",
    "        for result in results:\n",
    "            new_stone_counts[result] += stone_counts[stone]\n",
    "    return new_stone_counts"
   ]
  },
  {
   "cell_type": "code",
   "execution_count": 60,
   "id": "b5843a33",
   "metadata": {},
   "outputs": [],
   "source": [
    "stone_counts = {x: 1 for x in map(int, data.split(' '))}\n",
    "for i in range(25):\n",
    "    stone_counts = blink(stone_counts)\n",
    "puzzle.answer_a = sum(stone_counts[x] for x in stone_counts)\n",
    "for i in range(50):\n",
    "    stone_counts = blink(stone_counts)\n",
    "puzzle.answer_b = sum(stone_counts[x] for x in stone_counts)"
   ]
  },
  {
   "cell_type": "code",
   "execution_count": null,
   "id": "ace8d35c",
   "metadata": {},
   "outputs": [],
   "source": []
  }
 ],
 "metadata": {
  "kernelspec": {
   "display_name": "Python 3 (ipykernel)",
   "language": "python",
   "name": "python3"
  },
  "language_info": {
   "codemirror_mode": {
    "name": "ipython",
    "version": 3
   },
   "file_extension": ".py",
   "mimetype": "text/x-python",
   "name": "python",
   "nbconvert_exporter": "python",
   "pygments_lexer": "ipython3",
   "version": "3.11.0"
  }
 },
 "nbformat": 4,
 "nbformat_minor": 5
}
