{
 "cells": [
  {
   "cell_type": "code",
   "execution_count": 100,
   "id": "8ac008f1",
   "metadata": {},
   "outputs": [],
   "source": [
    "import aocd\n",
    "import re\n",
    "import numpy as np\n",
    "%run helper.ipynb\n",
    "puzzle = aocd.models.Puzzle(year=2024, day=10)\n",
    "data = puzzle.input_data"
   ]
  },
  {
   "cell_type": "code",
   "execution_count": 101,
   "id": "3590b15f",
   "metadata": {},
   "outputs": [],
   "source": [
    "g = Grid(data)"
   ]
  },
  {
   "cell_type": "code",
   "execution_count": 102,
   "id": "9b30ade7",
   "metadata": {},
   "outputs": [],
   "source": [
    "reachability_grid = np.full_like(g, set(), dtype=object)\n",
    "peaks = np.transpose(np.where(g == 9))\n",
    "for peak in peaks:\n",
    "    reachability_grid[*peak] = set([(peak[0], peak[1])])\n",
    "for step in range(0, 9)[::-1]:\n",
    "    places = np.transpose(np.where(g == step))\n",
    "    for place in places:\n",
    "        reachabilities = reachability_grid.sides(place, vals=True)\n",
    "        vals = g.sides(place, vals=True)\n",
    "        pairs = list(zip(reachabilities, vals))\n",
    "        s = set(flatten([list(x) for x,y in pairs if y == (step + 1)]))\n",
    "        reachability_grid[*place] = s"
   ]
  },
  {
   "cell_type": "code",
   "execution_count": 103,
   "id": "987bd069",
   "metadata": {},
   "outputs": [],
   "source": [
    "trailheads = np.transpose(np.where(g == 0))\n",
    "puzzle.answer_a = sum([len(reachability_grid[*t]) for t in trailheads])"
   ]
  },
  {
   "cell_type": "code",
   "execution_count": 104,
   "id": "e98d836e",
   "metadata": {},
   "outputs": [],
   "source": [
    "trailheads = np.transpose(np.where(g == 0))\n",
    "reachability_grid = np.zeros_like(g)\n",
    "reachability_grid[g == 9] = 1\n",
    "for step in range(0, 9)[::-1]:\n",
    "    places = np.transpose(np.where(g == step))\n",
    "    for place in places:\n",
    "        reachabilities = reachability_grid.sides(place, vals=True)\n",
    "        vals = g.sides(place, vals=True)\n",
    "        pairs = list(zip(reachabilities, vals))\n",
    "        s = sum([x for x,y in pairs if y == (step + 1)])\n",
    "        reachability_grid[*place] = s"
   ]
  },
  {
   "cell_type": "code",
   "execution_count": 105,
   "id": "c39696eb",
   "metadata": {},
   "outputs": [],
   "source": [
    "trailheads = np.transpose(np.where(g == 0))\n",
    "puzzle.answer_b = int(sum([reachability_grid[*t] for t in trailheads]))"
   ]
  },
  {
   "cell_type": "code",
   "execution_count": null,
   "id": "3676f38a",
   "metadata": {},
   "outputs": [],
   "source": []
  },
  {
   "cell_type": "code",
   "execution_count": null,
   "id": "b13f2afe",
   "metadata": {},
   "outputs": [],
   "source": []
  }
 ],
 "metadata": {
  "kernelspec": {
   "display_name": "Python 3 (ipykernel)",
   "language": "python",
   "name": "python3"
  },
  "language_info": {
   "codemirror_mode": {
    "name": "ipython",
    "version": 3
   },
   "file_extension": ".py",
   "mimetype": "text/x-python",
   "name": "python",
   "nbconvert_exporter": "python",
   "pygments_lexer": "ipython3",
   "version": "3.11.0"
  }
 },
 "nbformat": 4,
 "nbformat_minor": 5
}
