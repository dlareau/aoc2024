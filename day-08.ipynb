{
 "cells": [
  {
   "cell_type": "code",
   "execution_count": 1,
   "id": "fb9b9869",
   "metadata": {},
   "outputs": [],
   "source": [
    "import aocd\n",
    "import re\n",
    "import numpy as np\n",
    "import itertools\n",
    "%run helper.ipynb\n",
    "puzzle = aocd.models.Puzzle(year=2024, day=8)\n",
    "data = puzzle.input_data"
   ]
  },
  {
   "cell_type": "code",
   "execution_count": 2,
   "id": "77f2f3ee",
   "metadata": {},
   "outputs": [],
   "source": [
    "g = Grid(data, str)"
   ]
  },
  {
   "cell_type": "code",
   "execution_count": 3,
   "id": "fad4eb35",
   "metadata": {},
   "outputs": [],
   "source": [
    "antenna_chars = [x for x in np.unique(g) if x != '.']"
   ]
  },
  {
   "cell_type": "code",
   "execution_count": 4,
   "id": "9b2b4490",
   "metadata": {},
   "outputs": [],
   "source": [
    "def get_antinodes(grid, antenna_char):\n",
    "    antenna_locations = np.transpose(np.where(grid == antenna_char))\n",
    "    pairs = itertools.combinations(antenna_locations, 2)\n",
    "    antinodes = set()\n",
    "    for a, b in pairs:\n",
    "        a = Point2D(a)\n",
    "        b = Point2D(b)\n",
    "        diff = a - b\n",
    "        new = a + diff\n",
    "        if(grid.in_bounds(new)):\n",
    "            antinodes.add(new.coords)\n",
    "        new = b - diff\n",
    "        if(grid.in_bounds(new)):\n",
    "            antinodes.add(new.coords)\n",
    "    return list(antinodes)"
   ]
  },
  {
   "cell_type": "code",
   "execution_count": 5,
   "id": "ee2fcf2e",
   "metadata": {},
   "outputs": [],
   "source": [
    "an = list(set(flatten([get_antinodes(g, c) for c in antenna_chars])))"
   ]
  },
  {
   "cell_type": "code",
   "execution_count": 6,
   "id": "974d16b3",
   "metadata": {},
   "outputs": [],
   "source": [
    "puzzle.answer_a = len(an)"
   ]
  },
  {
   "cell_type": "code",
   "execution_count": 7,
   "id": "b949cddb",
   "metadata": {},
   "outputs": [],
   "source": [
    "def get_antinodes_b(grid, antenna_char):\n",
    "    antenna_locations = np.transpose(np.where(grid == antenna_char))\n",
    "    pairs = itertools.combinations(antenna_locations, 2)\n",
    "    antinodes = set()\n",
    "    for a, b in pairs:\n",
    "        a = Point2D(a)\n",
    "        b = Point2D(b)\n",
    "        diff = a - b\n",
    "        new = a\n",
    "        while(grid.in_bounds(new)):\n",
    "            antinodes.add(new.coords)\n",
    "            new += diff\n",
    "        new = b\n",
    "        while(grid.in_bounds(new)):\n",
    "            antinodes.add(new.coords)\n",
    "            new -= diff\n",
    "    return list(antinodes)"
   ]
  },
  {
   "cell_type": "code",
   "execution_count": 8,
   "id": "5c9df614",
   "metadata": {},
   "outputs": [],
   "source": [
    "an = list(set(flatten([get_antinodes_b(g, c) for c in antenna_chars])))"
   ]
  },
  {
   "cell_type": "code",
   "execution_count": 9,
   "id": "7d348d3b",
   "metadata": {},
   "outputs": [],
   "source": [
    "puzzle.answer_b = len(an)"
   ]
  },
  {
   "cell_type": "code",
   "execution_count": null,
   "id": "f87f6576",
   "metadata": {},
   "outputs": [],
   "source": []
  }
 ],
 "metadata": {
  "kernelspec": {
   "display_name": "Python 3 (ipykernel)",
   "language": "python",
   "name": "python3"
  },
  "language_info": {
   "codemirror_mode": {
    "name": "ipython",
    "version": 3
   },
   "file_extension": ".py",
   "mimetype": "text/x-python",
   "name": "python",
   "nbconvert_exporter": "python",
   "pygments_lexer": "ipython3",
   "version": "3.11.0"
  }
 },
 "nbformat": 4,
 "nbformat_minor": 5
}
