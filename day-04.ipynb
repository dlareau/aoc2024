{
 "cells": [
  {
   "cell_type": "code",
   "execution_count": 1,
   "id": "187914b1",
   "metadata": {},
   "outputs": [],
   "source": [
    "import aocd\n",
    "import re\n",
    "import numpy as np\n",
    "%run helper.ipynb\n",
    "puzzle = aocd.models.Puzzle(year=2024, day=4)\n",
    "data = puzzle.input_data"
   ]
  },
  {
   "cell_type": "code",
   "execution_count": 2,
   "id": "a183fd20",
   "metadata": {},
   "outputs": [],
   "source": [
    "grid = Grid(data, str)"
   ]
  },
  {
   "cell_type": "code",
   "execution_count": 3,
   "id": "3092b04f",
   "metadata": {},
   "outputs": [],
   "source": [
    "x_s = np.transpose(np.where(grid == 'X'))"
   ]
  },
  {
   "cell_type": "code",
   "execution_count": 4,
   "id": "98c98c42",
   "metadata": {},
   "outputs": [],
   "source": [
    "count = 0\n",
    "for x in x_s:\n",
    "    for side in grid.all_sides(x):\n",
    "        direction = Point2D(side) - Point2D(x)\n",
    "        m_coord = side  # always in bounds thanks to all_sides\n",
    "        a_coord = Point2D(side) + direction\n",
    "        s_coord = Point2D(side) + direction + direction\n",
    "\n",
    "        if (grid.in_bounds(a_coord) and grid.in_bounds(s_coord) and\n",
    "            grid[*m_coord] + grid[*a_coord] + grid[*s_coord] == 'MAS'):\n",
    "            count += 1"
   ]
  },
  {
   "cell_type": "code",
   "execution_count": 5,
   "id": "37e7fec1",
   "metadata": {},
   "outputs": [],
   "source": [
    "puzzle.answer_a = count"
   ]
  },
  {
   "cell_type": "code",
   "execution_count": 6,
   "id": "c7427f8f",
   "metadata": {},
   "outputs": [],
   "source": [
    "a_s = np.transpose(np.where(grid == 'A'))\n",
    "count = 0\n",
    "for a in a_s:\n",
    "    sides = grid.diags(a, vals=True)\n",
    "    if (sides == ['M', 'M', 'S', 'S'] or sides == ['M', 'S', 'S', 'M'] or\n",
    "        sides == ['S', 'M', 'M', 'S'] or sides == ['S', 'S', 'M', 'M']):\n",
    "        count += 1"
   ]
  },
  {
   "cell_type": "code",
   "execution_count": 7,
   "id": "896640a2",
   "metadata": {},
   "outputs": [],
   "source": [
    "puzzle.answer_b = count"
   ]
  },
  {
   "cell_type": "code",
   "execution_count": null,
   "id": "2cefe58f",
   "metadata": {},
   "outputs": [],
   "source": []
  }
 ],
 "metadata": {
  "kernelspec": {
   "display_name": "Python 3 (ipykernel)",
   "language": "python",
   "name": "python3"
  },
  "language_info": {
   "codemirror_mode": {
    "name": "ipython",
    "version": 3
   },
   "file_extension": ".py",
   "mimetype": "text/x-python",
   "name": "python",
   "nbconvert_exporter": "python",
   "pygments_lexer": "ipython3",
   "version": "3.11.0"
  }
 },
 "nbformat": 4,
 "nbformat_minor": 5
}
