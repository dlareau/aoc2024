{
 "cells": [
  {
   "cell_type": "code",
   "execution_count": 1,
   "id": "a49efdc6",
   "metadata": {},
   "outputs": [],
   "source": [
    "import aocd\n",
    "import re\n",
    "import numpy as np\n",
    "%run helper.ipynb\n",
    "puzzle = aocd.models.Puzzle(year=2024, day=1)"
   ]
  },
  {
   "cell_type": "code",
   "execution_count": 2,
   "id": "44aac0e8",
   "metadata": {},
   "outputs": [],
   "source": [
    "lines = puzzle.input_data.split(\"\\n\")"
   ]
  },
  {
   "cell_type": "code",
   "execution_count": 3,
   "id": "614227e0",
   "metadata": {},
   "outputs": [],
   "source": [
    "pairs = [map(int, x.split(\"   \")) for x in lines]"
   ]
  },
  {
   "cell_type": "code",
   "execution_count": 4,
   "id": "16bd27f6",
   "metadata": {},
   "outputs": [],
   "source": [
    "list1, list2 = map(sorted, zip(*pairs))"
   ]
  },
  {
   "cell_type": "code",
   "execution_count": 5,
   "id": "27d68bd4",
   "metadata": {},
   "outputs": [],
   "source": [
    "new_pairs = list(zip(list1, list2))"
   ]
  },
  {
   "cell_type": "code",
   "execution_count": 6,
   "id": "ded49f79",
   "metadata": {},
   "outputs": [],
   "source": [
    "puzzle.answer_a = sum(map(lambda p: abs(p[0] - p[1]), new_pairs ))"
   ]
  },
  {
   "cell_type": "code",
   "execution_count": 7,
   "id": "78f0d995",
   "metadata": {},
   "outputs": [],
   "source": [
    "puzzle.answer_b = sum(map(lambda x: x*list2.count(x), list1))"
   ]
  },
  {
   "cell_type": "code",
   "execution_count": null,
   "id": "6b893cb7",
   "metadata": {},
   "outputs": [],
   "source": []
  }
 ],
 "metadata": {
  "kernelspec": {
   "display_name": "Python 3 (ipykernel)",
   "language": "python",
   "name": "python3"
  },
  "language_info": {
   "codemirror_mode": {
    "name": "ipython",
    "version": 3
   },
   "file_extension": ".py",
   "mimetype": "text/x-python",
   "name": "python",
   "nbconvert_exporter": "python",
   "pygments_lexer": "ipython3",
   "version": "3.11.0"
  }
 },
 "nbformat": 4,
 "nbformat_minor": 5
}
