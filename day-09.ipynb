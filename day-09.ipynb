{
 "cells": [
  {
   "cell_type": "code",
   "execution_count": 1,
   "id": "73125c5b",
   "metadata": {},
   "outputs": [],
   "source": [
    "import aocd\n",
    "import re\n",
    "import numpy as np\n",
    "%run helper.ipynb\n",
    "puzzle = aocd.models.Puzzle(year=2024, day=9)\n",
    "data = puzzle.input_data"
   ]
  },
  {
   "cell_type": "code",
   "execution_count": 2,
   "id": "12127f6d",
   "metadata": {},
   "outputs": [],
   "source": [
    "class File(object):\n",
    "    def __init__(self, start, length, ID):\n",
    "        self.blocks = list(range(start, start+length))\n",
    "        self.id = ID\n",
    "    \n",
    "    def shift_to(self, pos):\n",
    "        self.blocks[self.blocks.index(max(self.blocks))] = pos\n",
    "        \n",
    "    def has_blocks_left(self, pos):\n",
    "        return any([x > pos for x in self.blocks])\n",
    "        \n",
    "    def checksum(self):\n",
    "        return sum(self.blocks) * self.id\n",
    "\n",
    "    def __repr__(self):\n",
    "        return f\"{self.id}: {self.blocks}\""
   ]
  },
  {
   "cell_type": "code",
   "execution_count": 3,
   "id": "21bfb0e2",
   "metadata": {},
   "outputs": [],
   "source": [
    "is_file = True\n",
    "files = []\n",
    "empty_spots = []\n",
    "location = 0\n",
    "# Build files\n",
    "for v in data:\n",
    "    v = int(v)\n",
    "    if is_file:\n",
    "        files.append(File(location, v, len(files)))\n",
    "    else:\n",
    "        empty_spots += list(range(location, location + v))\n",
    "    is_file = not is_file\n",
    "    location += v\n",
    "    \n",
    "used_files = []\n",
    "insert_pos = 0\n",
    "# Shift file blocks\n",
    "while(len(files) > 0):\n",
    "    while(files[-1].has_blocks_left(insert_pos)):\n",
    "        if insert_pos not in empty_spots:\n",
    "            insert_pos += 1\n",
    "            continue\n",
    "        files[-1].shift_to(insert_pos)\n",
    "        insert_pos += 1\n",
    "    used_files.append(files.pop())"
   ]
  },
  {
   "cell_type": "code",
   "execution_count": 4,
   "id": "9bb668ab",
   "metadata": {},
   "outputs": [],
   "source": [
    "puzzle.answer_a = sum([f.checksum() for f in used_files])"
   ]
  },
  {
   "cell_type": "code",
   "execution_count": 5,
   "id": "e62c1376",
   "metadata": {},
   "outputs": [],
   "source": [
    "class Sector(object):\n",
    "    def __init__(self, start, size, ID):\n",
    "        self.start = start\n",
    "        self.size = size\n",
    "        self.id = ID\n",
    "    \n",
    "    def shift_to(self, other_sector):\n",
    "        if other_sector.size < self.size:\n",
    "            return (other_sector, False)\n",
    "        self.start = other_sector.start\n",
    "        other_sector.start += self.size\n",
    "        other_sector.size -= self.size\n",
    "        if other_sector.size == 0:\n",
    "            return (None, True)\n",
    "        return (other_sector, True)\n",
    "    \n",
    "        \n",
    "    def checksum(self):\n",
    "        return sum(range(self.start, self.start + self.size)) * self.id\n",
    "\n",
    "    def __repr__(self):\n",
    "        return f\"{self.id}: {self.start}-{self.start+self.size-1}\""
   ]
  },
  {
   "cell_type": "code",
   "execution_count": 6,
   "id": "c3df2c2c",
   "metadata": {},
   "outputs": [],
   "source": [
    "is_file = True\n",
    "files = []\n",
    "empty_spots = []\n",
    "location = 0\n",
    "# Build files\n",
    "for v in data:\n",
    "    v = int(v)\n",
    "    if is_file:\n",
    "        files.append(Sector(location, v, len(files)))\n",
    "    else:\n",
    "        empty_spots.append(Sector(location, v, 0))\n",
    "    is_file = not is_file\n",
    "    location += v"
   ]
  },
  {
   "cell_type": "code",
   "execution_count": 7,
   "id": "b3a0a0ff",
   "metadata": {},
   "outputs": [],
   "source": [
    "for file in files[::-1]:\n",
    "    moved = False\n",
    "    empty_spot_idx = 0\n",
    "    while not moved and empty_spots[empty_spot_idx].start < file.start:\n",
    "        empty_sector, moved = file.shift_to(empty_spots[empty_spot_idx])\n",
    "        if empty_sector is None:\n",
    "            empty_spots.pop(empty_spot_idx)\n",
    "        else:\n",
    "            empty_spot_idx += 1        "
   ]
  },
  {
   "cell_type": "code",
   "execution_count": 8,
   "id": "2232cdeb",
   "metadata": {},
   "outputs": [],
   "source": [
    "puzzle.answer_b = sum([f.checksum() for f in files])"
   ]
  },
  {
   "cell_type": "code",
   "execution_count": null,
   "id": "16dffdfe",
   "metadata": {},
   "outputs": [],
   "source": []
  }
 ],
 "metadata": {
  "kernelspec": {
   "display_name": "Python 3 (ipykernel)",
   "language": "python",
   "name": "python3"
  },
  "language_info": {
   "codemirror_mode": {
    "name": "ipython",
    "version": 3
   },
   "file_extension": ".py",
   "mimetype": "text/x-python",
   "name": "python",
   "nbconvert_exporter": "python",
   "pygments_lexer": "ipython3",
   "version": "3.11.0"
  }
 },
 "nbformat": 4,
 "nbformat_minor": 5
}
