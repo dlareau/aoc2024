{
 "cells": [
  {
   "cell_type": "code",
   "execution_count": 125,
   "id": "276a41b8",
   "metadata": {},
   "outputs": [],
   "source": [
    "import aocd\n",
    "import re\n",
    "import numpy as np\n",
    "%run helper.ipynb\n",
    "puzzle = aocd.models.Puzzle(year=2024, day=14)\n",
    "data = puzzle.input_data"
   ]
  },
  {
   "cell_type": "code",
   "execution_count": 126,
   "id": "4608a824",
   "metadata": {},
   "outputs": [],
   "source": [
    "robot_regex = r\"p=(-?\\d+),(-?\\d+) v=(-?\\d+),(-?\\d+)\"\n",
    "robots = [list(map(int, re.match(robot_regex, d).groups())) for d in data.split(\"\\n\")]\n",
    "robots = [[Point2D((x, y)), Point2D((dx, dy))] for x, y, dx, dy in robots]"
   ]
  },
  {
   "cell_type": "code",
   "execution_count": 127,
   "id": "99f20ff1",
   "metadata": {},
   "outputs": [],
   "source": [
    "def step(robot):\n",
    "    robot[0] = robot[0] + robot[1]\n",
    "    return robot\n",
    "    \n",
    "def snap_to_grid(robot, sizes):\n",
    "    robot[0] = Point2D((robot[0].x % sizes[0], robot[0].y % sizes[1]))\n",
    "    return robot\n",
    "    \n",
    "def score(robots, sizes):\n",
    "    robots = [snap_to_grid(r, sizes) for r in robots]\n",
    "    xm = sizes[0] // 2\n",
    "    ym = sizes[1] // 2\n",
    "    ul = [r for r in robots if r[0].x < xm and r[0].y < ym]\n",
    "    ur = [r for r in robots if r[0].x > xm and r[0].y < ym]\n",
    "    dl = [r for r in robots if r[0].x < xm and r[0].y > ym]\n",
    "    dr = [r for r in robots if r[0].x > xm and r[0].y > ym]\n",
    "    if (len(ul) + len(ur)) == (len(dl) + len(dr)):\n",
    "        display(robots, sizes)\n",
    "    return len(ul) * len(ur) * len(dl) * len(dr)\n",
    "\n",
    "def display(robots, sizes):\n",
    "    grid = np.zeros(sizes, dtype=np.int8)\n",
    "    for r in robots:\n",
    "        grid[*(r[0].coords)] += 1\n",
    "    grid = np.transpose(grid)\n",
    "    p = '\\n'.join([''.join(map(str,x)) for x in grid])\n",
    "    print(p)"
   ]
  },
  {
   "cell_type": "code",
   "execution_count": 128,
   "id": "147fd7f3",
   "metadata": {},
   "outputs": [],
   "source": [
    "for i in range(100):\n",
    "    robots = list(map(step, robots))\n",
    "    \n",
    "puzzle.answer_a = score(robots, (101, 103))"
   ]
  },
  {
   "cell_type": "code",
   "execution_count": null,
   "id": "6d250819",
   "metadata": {},
   "outputs": [],
   "source": [
    "# Part B, I recognized after manually stepping through a \n",
    "# few hundred frames that patterns appeared for me on frames\n",
    "# 1 + x * 101, so I stepped through just those frames until a tree\n",
    "# appeared on frame 6780."
   ]
  },
  {
   "cell_type": "code",
   "execution_count": null,
   "id": "42b139d0",
   "metadata": {},
   "outputs": [],
   "source": []
  }
 ],
 "metadata": {
  "kernelspec": {
   "display_name": "Python 3 (ipykernel)",
   "language": "python",
   "name": "python3"
  },
  "language_info": {
   "codemirror_mode": {
    "name": "ipython",
    "version": 3
   },
   "file_extension": ".py",
   "mimetype": "text/x-python",
   "name": "python",
   "nbconvert_exporter": "python",
   "pygments_lexer": "ipython3",
   "version": "3.11.0"
  }
 },
 "nbformat": 4,
 "nbformat_minor": 5
}
