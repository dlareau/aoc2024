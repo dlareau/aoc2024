{
 "cells": [
  {
   "cell_type": "code",
   "execution_count": 84,
   "id": "2b86cf72",
   "metadata": {},
   "outputs": [],
   "source": [
    "import aocd\n",
    "import re\n",
    "import numpy as np\n",
    "import networkx as nx\n",
    "%run helper.ipynb\n",
    "puzzle = aocd.models.Puzzle(year=2024, day=17)\n",
    "data = puzzle.input_data"
   ]
  },
  {
   "cell_type": "code",
   "execution_count": 67,
   "id": "e64e4ff7",
   "metadata": {},
   "outputs": [],
   "source": [
    "data = \"\"\"Register A: 2024\n",
    "Register B: 0\n",
    "Register C: 0\n",
    "\n",
    "Program: 0,3,5,4,3,0\"\"\""
   ]
  },
  {
   "cell_type": "code",
   "execution_count": 85,
   "id": "6c6d0cdf",
   "metadata": {},
   "outputs": [],
   "source": [
    "registers, program = data.split(\"\\n\\n\")\n",
    "registers = [int(r.split(\" \")[2]) for r in registers.split(\"\\n\")]\n",
    "program = list(map(int, (program.split(\" \")[1]).split(\",\")))"
   ]
  },
  {
   "cell_type": "code",
   "execution_count": 86,
   "id": "24c233cf",
   "metadata": {},
   "outputs": [],
   "source": [
    "def combo(operand, registers):\n",
    "    if operand < 4:\n",
    "        return operand\n",
    "    if operand < 7:\n",
    "        return registers[operand-4]\n",
    "    print(\"Invalid combo operand\")\n",
    "    return -1\n",
    "    \n",
    "def op(opcode, operand, registers, pc, outputs):\n",
    "    if opcode == 0:\n",
    "        registers[0] = registers[0] // (2**combo(operand, registers))\n",
    "    elif opcode == 1:\n",
    "        registers[1] = registers[1] ^ operand\n",
    "    elif opcode == 2:\n",
    "        registers[1] = combo(operand, registers) % 8\n",
    "    elif opcode == 3 and registers[0] != 0:\n",
    "        return operand\n",
    "    elif opcode == 4:\n",
    "        registers[1] = registers[1] ^ registers[2]\n",
    "    elif opcode == 5:\n",
    "        outputs.append(combo(operand, registers) % 8)\n",
    "    elif opcode == 6:\n",
    "        registers[1] = registers[0] // (2**combo(operand, registers))\n",
    "    elif opcode == 7:\n",
    "        registers[2] = registers[0] // (2**combo(operand, registers))\n",
    "        \n",
    "    return pc + 2"
   ]
  },
  {
   "cell_type": "code",
   "execution_count": 87,
   "id": "fbbac85f",
   "metadata": {},
   "outputs": [],
   "source": [
    "def run(registers, program):\n",
    "    pc = 0\n",
    "    outputs = []\n",
    "    while pc < len(program):\n",
    "        pc = op(program[pc], program[pc+1], registers, pc, outputs)\n",
    "    return outputs"
   ]
  },
  {
   "cell_type": "code",
   "execution_count": 88,
   "id": "fe007de1",
   "metadata": {},
   "outputs": [],
   "source": [
    "puzzle.answer_a = \",\".join(map(str, run(registers, program)))"
   ]
  },
  {
   "cell_type": "code",
   "execution_count": 89,
   "id": "8598e801",
   "metadata": {},
   "outputs": [],
   "source": [
    "def is_self_replicating(registers, program):\n",
    "    pc = 0\n",
    "    outputs = []\n",
    "    while pc < len(program):\n",
    "        pc = op(program[pc], program[pc+1], registers, pc, outputs)\n",
    "        if len(outputs) and outputs[len(outputs)-1] != program[len(outputs) - 1]:\n",
    "            return False\n",
    "    return len(outputs) == len(program)"
   ]
  },
  {
   "cell_type": "code",
   "execution_count": 93,
   "id": "3970ad94",
   "metadata": {},
   "outputs": [],
   "source": [
    "for a in range(30000000, 90000000):\n",
    "    result = is_self_replicating([a, 0, 0], program)\n",
    "    if result:\n",
    "        print(a)\n",
    "        break"
   ]
  },
  {
   "cell_type": "code",
   "execution_count": 173,
   "id": "71f586bf",
   "metadata": {},
   "outputs": [
    {
     "name": "stdout",
     "output_type": "stream",
     "text": [
      "236548287712877 [2, 4, 1, 3, 7, 5, 1, 5, 0, 3, 4, 3, 5, 5, 3, 0]\n",
      "236548287712959 [2, 4, 1, 3, 7, 5, 1, 5, 0, 3, 4, 3, 5, 5, 3, 0]\n"
     ]
    }
   ],
   "source": [
    "specificity = -16\n",
    "for a in range(236548287709180, 236548287713280, 1):\n",
    "    output = run([a, 0, 0], program)\n",
    "    if(output[specificity:] == program[specificity:]):\n",
    "        print(a, output)"
   ]
  },
  {
   "cell_type": "code",
   "execution_count": 174,
   "id": "4fbe078e",
   "metadata": {},
   "outputs": [
    {
     "data": {
      "text/plain": [
       "236548287712877"
      ]
     },
     "execution_count": 174,
     "metadata": {},
     "output_type": "execute_result"
    }
   ],
   "source": [
    "216591900000000\n",
    "216593100000000\n",
    "\n",
    "234184100000000\n",
    "234185300000000\n",
    "\n",
    "236547400000000\n",
    "236548600000000\n",
    "\n",
    "236548287712877"
   ]
  }
 ],
 "metadata": {
  "kernelspec": {
   "display_name": "Python 3 (ipykernel)",
   "language": "python",
   "name": "python3"
  },
  "language_info": {
   "codemirror_mode": {
    "name": "ipython",
    "version": 3
   },
   "file_extension": ".py",
   "mimetype": "text/x-python",
   "name": "python",
   "nbconvert_exporter": "python",
   "pygments_lexer": "ipython3",
   "version": "3.11.0"
  }
 },
 "nbformat": 4,
 "nbformat_minor": 5
}
