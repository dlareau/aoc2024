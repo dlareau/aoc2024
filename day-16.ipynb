{
 "cells": [
  {
   "cell_type": "code",
   "execution_count": 1,
   "id": "5418ed99",
   "metadata": {},
   "outputs": [],
   "source": [
    "import aocd\n",
    "import re\n",
    "import numpy as np\n",
    "import networkx as nx\n",
    "%run helper.ipynb\n",
    "puzzle = aocd.models.Puzzle(year=2024, day=16)\n",
    "data = puzzle.input_data"
   ]
  },
  {
   "cell_type": "code",
   "execution_count": 2,
   "id": "28aca3aa",
   "metadata": {},
   "outputs": [],
   "source": [
    "grid = Grid(data, str)"
   ]
  },
  {
   "cell_type": "code",
   "execution_count": 3,
   "id": "d443521c",
   "metadata": {},
   "outputs": [],
   "source": [
    "turning_dict = {\n",
    "    Point2D((0,1)): [Point2D((1,0)), Point2D((-1,0))],\n",
    "    Point2D((0,-1)): [Point2D((1,0)), Point2D((-1,0))],\n",
    "    Point2D((1,0)): [Point2D((0,1)), Point2D((0,-1))],\n",
    "    Point2D((-1,0)): [Point2D((0,1)), Point2D((0,-1))],\n",
    "}\n",
    "\n",
    "start = Point2D(np.transpose(np.where(grid == 'S'))[0])\n",
    "end = Point2D(np.transpose(np.where(grid == 'E'))[0])\n",
    "facing = Point2D((0,1))\n",
    "position = (start, facing)\n",
    "\n",
    "def get_valid_adj(position, grid):\n",
    "    valid = []\n",
    "    turn1 = position[0] + turning_dict[position[1]][0]\n",
    "    if grid.in_bounds(turn1) and grid[*(turn1)] != \"#\":\n",
    "        valid.append(((turn1, turning_dict[position[1]][0]), 1001))\n",
    "    turn2 = position[0] + turning_dict[position[1]][1]\n",
    "    if grid.in_bounds(turn2) and grid[*(turn2)] != \"#\":\n",
    "        valid.append(((turn2, turning_dict[position[1]][1]), 1001))\n",
    "    no_turn = position[0] + position[1]\n",
    "    if grid.in_bounds(no_turn) and grid[*(no_turn)] != \"#\":\n",
    "        valid.append(((no_turn, position[1]), 1))\n",
    "    return valid"
   ]
  },
  {
   "cell_type": "code",
   "execution_count": 4,
   "id": "9dff43aa",
   "metadata": {},
   "outputs": [],
   "source": [
    "def build_graph(position, graph, grid):\n",
    "    G.add_node(position)\n",
    "    adj = get_valid_adj(position, grid)\n",
    "    next_adj = [a for a in adj if not graph.has_node(a[0])]\n",
    "    for a in adj:\n",
    "        G.add_edge(position, a[0], weight=a[1])\n",
    "    for a in next_adj:\n",
    "        build_graph(a[0], graph, grid)\n"
   ]
  },
  {
   "cell_type": "code",
   "execution_count": 5,
   "id": "4021c511",
   "metadata": {},
   "outputs": [],
   "source": [
    "G = nx.Graph()\n",
    "build_graph(position, G, grid)\n",
    "for k in turning_dict:\n",
    "    G.add_edge((end, k), \"true_end\", weight=0)"
   ]
  },
  {
   "cell_type": "code",
   "execution_count": 6,
   "id": "0747f8bf",
   "metadata": {},
   "outputs": [],
   "source": [
    "dist = nx.shortest_path_length(G, (start, facing), \"true_end\", weight='weight')"
   ]
  },
  {
   "cell_type": "code",
   "execution_count": 7,
   "id": "0d229cbd",
   "metadata": {},
   "outputs": [],
   "source": [
    "puzzle.answer_a = dist"
   ]
  },
  {
   "cell_type": "code",
   "execution_count": 9,
   "id": "733c75ca",
   "metadata": {},
   "outputs": [],
   "source": [
    "tile_set = set()\n",
    "asp = nx.all_shortest_paths(G, (start, facing), \"true_end\", weight='weight')\n",
    "for p in asp:\n",
    "    for t in p:\n",
    "        if t != 'true_end':\n",
    "            tile_set.add(t[0])"
   ]
  },
  {
   "cell_type": "code",
   "execution_count": 10,
   "id": "806bc690",
   "metadata": {},
   "outputs": [],
   "source": [
    "puzzle.answer_b = len(tile_set)"
   ]
  },
  {
   "cell_type": "code",
   "execution_count": null,
   "id": "9a5a05ff",
   "metadata": {},
   "outputs": [],
   "source": []
  }
 ],
 "metadata": {
  "kernelspec": {
   "display_name": "Python 3 (ipykernel)",
   "language": "python",
   "name": "python3"
  },
  "language_info": {
   "codemirror_mode": {
    "name": "ipython",
    "version": 3
   },
   "file_extension": ".py",
   "mimetype": "text/x-python",
   "name": "python",
   "nbconvert_exporter": "python",
   "pygments_lexer": "ipython3",
   "version": "3.11.0"
  }
 },
 "nbformat": 4,
 "nbformat_minor": 5
}
