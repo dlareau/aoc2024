{
 "cells": [
  {
   "cell_type": "code",
   "execution_count": 1,
   "id": "5bd99ef3",
   "metadata": {},
   "outputs": [],
   "source": [
    "import aocd\n",
    "import re\n",
    "import numpy as np\n",
    "import itertools\n",
    "%run helper.ipynb\n",
    "puzzle = aocd.models.Puzzle(year=2024, day=12)\n",
    "data = puzzle.input_data"
   ]
  },
  {
   "cell_type": "code",
   "execution_count": 2,
   "id": "b79928c1",
   "metadata": {},
   "outputs": [],
   "source": [
    "grid = Grid(data, str)"
   ]
  },
  {
   "cell_type": "code",
   "execution_count": 3,
   "id": "9a111599",
   "metadata": {},
   "outputs": [],
   "source": [
    "# Directions and their \"left-handed\" check direction\n",
    "directions = {\n",
    "    (1, 0): (0,1),\n",
    "    (-1,0): (0,-1),\n",
    "    (0, 1): (-1,0),\n",
    "    (0,-1): (1,0)\n",
    "}\n",
    "\n",
    "def get_num_sides(grid, point):\n",
    "    s = 0\n",
    "    for d in directions:\n",
    "        # Check that there is actually an edge\n",
    "        new_point = (point[0] + d[0], point[1] + d[1])\n",
    "        if grid.in_bounds(new_point) and grid[new_point] == grid[point]:\n",
    "            continue\n",
    "            \n",
    "        # If the piece next to you is out of bounds or different you are the end\n",
    "        other_piece = (point[0] + directions[d][0],\n",
    "                         point[1] + directions[d][1])\n",
    "        if not grid.in_bounds(other_piece) or grid[other_piece] != grid[point]:\n",
    "            s += 1\n",
    "            continue\n",
    "        check_point = (point[0] + d[0] + directions[d][0],\n",
    "                         point[1] + d[1] + directions[d][1])\n",
    "        # If both your opposite and your neighbors opposite are out of bounds\n",
    "        # you are not the end\n",
    "        if not grid.in_bounds(new_point) and not grid.in_bounds(check_point):\n",
    "            continue\n",
    "        # If your neighbor's opposite is the same as you then you are the end\n",
    "        if grid[check_point] == grid[point]:\n",
    "            s += 1\n",
    "            continue\n",
    "    return s\n",
    "    \n",
    "\n",
    "def fill(grid, point, point_set):\n",
    "    point_set.append(point)\n",
    "    sides = grid.sides(point)\n",
    "    sides = [s for s in sides if grid[s] == grid[point]]\n",
    "    num_fences = 4-len(sides)\n",
    "    area = 1\n",
    "    num_sides = get_num_sides(grid, point)\n",
    "    for side in sides:\n",
    "        if side in point_set:\n",
    "            continue\n",
    "        nf, ns, a, _ = fill(grid, side, point_set)\n",
    "        num_fences += nf\n",
    "        num_sides += ns\n",
    "        area += a\n",
    "    return num_fences, num_sides, area, point_set\n",
    "    "
   ]
  },
  {
   "cell_type": "code",
   "execution_count": 4,
   "id": "240ab02c",
   "metadata": {},
   "outputs": [],
   "source": [
    "possible_points = set(itertools.product(range(len(grid)), range(len(grid[0]))))\n",
    "score_a = 0\n",
    "score_b = 0\n",
    "while(len(possible_points) > 0):\n",
    "    nf, ns, a, p = fill(grid, list(possible_points)[0], [])\n",
    "    possible_points -= set(p)\n",
    "    score_a += nf*a\n",
    "    score_b += ns*a"
   ]
  },
  {
   "cell_type": "code",
   "execution_count": 5,
   "id": "6bd39447",
   "metadata": {},
   "outputs": [],
   "source": [
    "puzzle.answer_a = score_a"
   ]
  },
  {
   "cell_type": "code",
   "execution_count": 6,
   "id": "6675a520",
   "metadata": {},
   "outputs": [],
   "source": [
    "puzzle.answer_b = score_b"
   ]
  },
  {
   "cell_type": "code",
   "execution_count": null,
   "id": "e01b2691",
   "metadata": {},
   "outputs": [],
   "source": []
  }
 ],
 "metadata": {
  "kernelspec": {
   "display_name": "Python 3 (ipykernel)",
   "language": "python",
   "name": "python3"
  },
  "language_info": {
   "codemirror_mode": {
    "name": "ipython",
    "version": 3
   },
   "file_extension": ".py",
   "mimetype": "text/x-python",
   "name": "python",
   "nbconvert_exporter": "python",
   "pygments_lexer": "ipython3",
   "version": "3.11.0"
  }
 },
 "nbformat": 4,
 "nbformat_minor": 5
}
