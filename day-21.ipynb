{
 "cells": [
  {
   "cell_type": "code",
   "execution_count": 1,
   "id": "b3864a4b",
   "metadata": {},
   "outputs": [],
   "source": [
    "import aocd\n",
    "import re\n",
    "from functools import cache\n",
    "import itertools\n",
    "%run helper.ipynb\n",
    "puzzle = aocd.models.Puzzle(year=2024, day=21)\n",
    "data = puzzle.input_data"
   ]
  },
  {
   "cell_type": "code",
   "execution_count": 2,
   "id": "e0b34c62",
   "metadata": {},
   "outputs": [],
   "source": [
    "inputs = data.split(\"\\n\")"
   ]
  },
  {
   "cell_type": "code",
   "execution_count": 3,
   "id": "35aec6d7",
   "metadata": {},
   "outputs": [],
   "source": [
    "dir_map = {\n",
    "    (-1, 0): \"^\",\n",
    "    ( 1, 0): \"v\",\n",
    "    (0, -1): \"<\",\n",
    "    (0,  1): \">\"\n",
    "}\n",
    "\n",
    "def get_all_directions(grid):\n",
    "    directions = {}\n",
    "    for r1 in range(len(grid)):\n",
    "        for r2 in range(len(grid)):\n",
    "            for c1 in range(len(grid[0])):\n",
    "                for c2 in range(len(grid[0])):\n",
    "                    if grid[r1][c1] == \" \" or grid[r2][c2] == \" \":\n",
    "                        continue\n",
    "                    r_diff = r2 - r1\n",
    "                    c_diff = c2 - c1\n",
    "                    if r_diff != 0:\n",
    "                        r_dir_idx = r_diff // abs(r_diff)\n",
    "                        r_dir = abs(r_diff) * dir_map[(r_dir_idx, 0)]\n",
    "                    else:\n",
    "                        r_dir = \"\"\n",
    "                    if c_diff != 0:\n",
    "                        c_dir_idx = c_diff // abs(c_diff)\n",
    "                        c_dir = abs(c_diff) * dir_map[(0, c_dir_idx)]\n",
    "                    else:\n",
    "                        c_dir = \"\"\n",
    "                    dirs = []\n",
    "                    if grid[r1][c2] != \" \":\n",
    "                        dirs.append(c_dir + r_dir)\n",
    "                    if grid[r2][c1] != \" \":\n",
    "                        dirs.append(r_dir + c_dir)\n",
    "                    directions[(grid[r1][c1], grid[r2][c2])] = dirs   \n",
    "    return directions"
   ]
  },
  {
   "cell_type": "code",
   "execution_count": 4,
   "id": "3f3187a6",
   "metadata": {},
   "outputs": [],
   "source": [
    "keypad = Grid(\"789\\n456\\n123\\n 0A\", str)\n",
    "remote = Grid(\" ^A\\n<v>\", str)\n",
    "keypad_directions = get_all_directions(keypad)\n",
    "remote_directions = get_all_directions(remote)"
   ]
  },
  {
   "cell_type": "code",
   "execution_count": 5,
   "id": "c3c3832e",
   "metadata": {},
   "outputs": [],
   "source": [
    "@cache\n",
    "def map_directions(code, depth, start):\n",
    "    temp_code = \"A\" + code\n",
    "    pairs = zip(temp_code[:-1], temp_code[1:])\n",
    "    dirs = keypad_directions if start else remote_directions\n",
    "    min_len = 0\n",
    "    for p in pairs:\n",
    "        if depth == 0:\n",
    "            min_len += min([len(x)+1 for x in dirs[p]])\n",
    "        else:\n",
    "            min_len += min([map_directions(d + \"A\", depth-1, False) for d in dirs[p]])\n",
    "    # print(temp_code, depth, start, min_len)\n",
    "    return min_len\n",
    "\n",
    "def score_input(code, num_robots):\n",
    "    l = map_directions(code, num_robots, True)\n",
    "    return int(code[:3])* l"
   ]
  },
  {
   "cell_type": "code",
   "execution_count": 6,
   "id": "7a1a4dd5",
   "metadata": {},
   "outputs": [],
   "source": [
    "puzzle.answer_a = sum([score_input(x, 2) for x in inputs])"
   ]
  },
  {
   "cell_type": "code",
   "execution_count": 7,
   "id": "09646e13",
   "metadata": {},
   "outputs": [],
   "source": [
    "puzzle.answer_b = sum([score_input(x, 25) for x in inputs])"
   ]
  },
  {
   "cell_type": "code",
   "execution_count": null,
   "id": "6d636789",
   "metadata": {},
   "outputs": [],
   "source": []
  }
 ],
 "metadata": {
  "kernelspec": {
   "display_name": "Python 3 (ipykernel)",
   "language": "python",
   "name": "python3"
  },
  "language_info": {
   "codemirror_mode": {
    "name": "ipython",
    "version": 3
   },
   "file_extension": ".py",
   "mimetype": "text/x-python",
   "name": "python",
   "nbconvert_exporter": "python",
   "pygments_lexer": "ipython3",
   "version": "3.11.0"
  }
 },
 "nbformat": 4,
 "nbformat_minor": 5
}
