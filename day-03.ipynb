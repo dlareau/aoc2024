{
 "cells": [
  {
   "cell_type": "code",
   "execution_count": 1,
   "id": "187914b1",
   "metadata": {},
   "outputs": [],
   "source": [
    "import aocd\n",
    "import re\n",
    "import numpy as np\n",
    "%run helper.ipynb\n",
    "puzzle = aocd.models.Puzzle(year=2024, day=3)\n",
    "data = puzzle.input_data"
   ]
  },
  {
   "cell_type": "code",
   "execution_count": 2,
   "id": "b3a2eb40",
   "metadata": {},
   "outputs": [],
   "source": [
    "pairs = re.findall(\"mul\\((\\d+),(\\d+)\\)\", data)"
   ]
  },
  {
   "cell_type": "code",
   "execution_count": 3,
   "id": "c3a4249d",
   "metadata": {},
   "outputs": [],
   "source": [
    "puzzle.answer_a = sum([int(p[0]) * int(p[1]) for p in pairs])"
   ]
  },
  {
   "cell_type": "code",
   "execution_count": 4,
   "id": "94bce2a1",
   "metadata": {},
   "outputs": [],
   "source": [
    "instructions = re.findall(\"(do\\(\\))|(don't\\(\\))|mul\\((\\d+),(\\d+)\\)\", data)"
   ]
  },
  {
   "cell_type": "code",
   "execution_count": 5,
   "id": "bcd728bb",
   "metadata": {},
   "outputs": [],
   "source": [
    "s = 0\n",
    "use = True\n",
    "for instruction in instructions:\n",
    "    if instruction[0]:\n",
    "        use = True\n",
    "        continue\n",
    "    if instruction[1]:\n",
    "        use = False\n",
    "        continue\n",
    "    if use:\n",
    "        s += int(instruction[2]) * int(instruction[3])"
   ]
  },
  {
   "cell_type": "code",
   "execution_count": 6,
   "id": "3a82d138",
   "metadata": {},
   "outputs": [],
   "source": [
    "puzzle.answer_b = s"
   ]
  },
  {
   "cell_type": "code",
   "execution_count": null,
   "id": "d7b920cf",
   "metadata": {},
   "outputs": [],
   "source": []
  }
 ],
 "metadata": {
  "kernelspec": {
   "display_name": "Python 3 (ipykernel)",
   "language": "python",
   "name": "python3"
  },
  "language_info": {
   "codemirror_mode": {
    "name": "ipython",
    "version": 3
   },
   "file_extension": ".py",
   "mimetype": "text/x-python",
   "name": "python",
   "nbconvert_exporter": "python",
   "pygments_lexer": "ipython3",
   "version": "3.11.0"
  }
 },
 "nbformat": 4,
 "nbformat_minor": 5
}
