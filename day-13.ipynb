{
 "cells": [
  {
   "cell_type": "code",
   "execution_count": 1,
   "id": "80975ec3",
   "metadata": {},
   "outputs": [],
   "source": [
    "import aocd\n",
    "import re\n",
    "import numpy as np\n",
    "%run helper.ipynb\n",
    "puzzle = aocd.models.Puzzle(year=2024, day=13)\n",
    "data = puzzle.input_data"
   ]
  },
  {
   "cell_type": "code",
   "execution_count": 2,
   "id": "ae9e9ac2",
   "metadata": {},
   "outputs": [],
   "source": [
    "machine_regex = r'Button A: X\\+(\\d+), Y\\+(\\d+)\\nButton B: X\\+(\\d+), Y\\+(\\d+)\\nPrize: X=(\\d+), Y=(\\d+)'\n",
    "machines = [re.match(machine_regex, d).groups() for d in data.split(\"\\n\\n\")]"
   ]
  },
  {
   "cell_type": "code",
   "execution_count": 3,
   "id": "d19eddd2",
   "metadata": {},
   "outputs": [],
   "source": [
    "def solve(specs, extra=0):\n",
    "    ax, ay, bx, by, x, y = map(int, specs)\n",
    "    a = np.array([[ax, bx], [ay, by]])\n",
    "    b = np.array([x+extra, y+extra])\n",
    "    return np.linalg.solve(a, b)\n",
    "def is_int(f):\n",
    "    return abs(f - round(f, 0)) < 0.0001"
   ]
  },
  {
   "cell_type": "code",
   "execution_count": 4,
   "id": "f83b127f",
   "metadata": {},
   "outputs": [],
   "source": [
    "solves = [solve(m) for m in machines]\n",
    "cost = sum(s[0]*3 + s[1] for s in solves if (s[0] > 0 and s[1] > 0 and is_int(s[0]) and is_int(s[1])))"
   ]
  },
  {
   "cell_type": "code",
   "execution_count": 5,
   "id": "4994f224",
   "metadata": {},
   "outputs": [],
   "source": [
    "puzzle.answer_a = int(cost)"
   ]
  },
  {
   "cell_type": "code",
   "execution_count": 6,
   "id": "d2b84153",
   "metadata": {},
   "outputs": [],
   "source": [
    "solves = [solve(m, 10000000000000) for m in machines]\n",
    "cost = sum(s[0]*3 + s[1] for s in solves if (s[0] > 0 and s[1] > 0 and is_int(s[0]) and is_int(s[1])))"
   ]
  },
  {
   "cell_type": "code",
   "execution_count": 7,
   "id": "ce3d61cb",
   "metadata": {},
   "outputs": [],
   "source": [
    "puzzle.answer_b = int(cost)"
   ]
  },
  {
   "cell_type": "code",
   "execution_count": null,
   "id": "0445c2f3",
   "metadata": {},
   "outputs": [],
   "source": []
  }
 ],
 "metadata": {
  "kernelspec": {
   "display_name": "Python 3 (ipykernel)",
   "language": "python",
   "name": "python3"
  },
  "language_info": {
   "codemirror_mode": {
    "name": "ipython",
    "version": 3
   },
   "file_extension": ".py",
   "mimetype": "text/x-python",
   "name": "python",
   "nbconvert_exporter": "python",
   "pygments_lexer": "ipython3",
   "version": "3.11.0"
  }
 },
 "nbformat": 4,
 "nbformat_minor": 5
}
