{
 "cells": [
  {
   "cell_type": "code",
   "execution_count": 146,
   "id": "d3a80ea1",
   "metadata": {},
   "outputs": [],
   "source": [
    "import aocd\n",
    "import re\n",
    "import numpy as np\n",
    "%run helper.ipynb\n",
    "puzzle = aocd.models.Puzzle(year=2024, day=5)\n",
    "data = puzzle.input_data"
   ]
  },
  {
   "cell_type": "code",
   "execution_count": 147,
   "id": "6b5ea117",
   "metadata": {},
   "outputs": [],
   "source": [
    "from collections import defaultdict\n",
    "rules, updates = data.split(\"\\n\\n\")\n",
    "rules = [rule.split(\"|\") for rule in rules.split(\"\\n\")]\n",
    "updates = [update.split(\",\") for update in updates.split(\"\\n\")]\n",
    "rule_dict = defaultdict(list)\n",
    "for rule in rules:\n",
    "    rule_dict[rule[1]].append(rule[0])"
   ]
  },
  {
   "cell_type": "code",
   "execution_count": 148,
   "id": "07ca3afa",
   "metadata": {},
   "outputs": [],
   "source": [
    "def valid_update(update):\n",
    "    for i in range(len(update)):\n",
    "        if update[i] in rule_dict:\n",
    "            for item in rule_dict[update[i]]:\n",
    "                try:\n",
    "                    if update[i:].index(item) != -1:\n",
    "                        return False\n",
    "                except ValueError:\n",
    "                    pass\n",
    "    return True"
   ]
  },
  {
   "cell_type": "code",
   "execution_count": 149,
   "id": "90aa9542",
   "metadata": {},
   "outputs": [],
   "source": [
    "good_updates = [u for u in updates if valid_update(u)]\n",
    "bad_updates = [u for u in updates if not valid_update(u)]\n",
    "s = sum([int(update[len(update)//2]) for update in good_updates])\n",
    "puzzle.answer_a = s"
   ]
  },
  {
   "cell_type": "code",
   "execution_count": 150,
   "id": "d646e998",
   "metadata": {},
   "outputs": [],
   "source": [
    "def make_valid(update):\n",
    "    while(not valid_update(update)):\n",
    "        for i in range(len(update)):\n",
    "            for item in rule_dict[update[i]]:\n",
    "                try:\n",
    "                    extra = update[i:]\n",
    "                    bad_idx = update[i:].index(item)\n",
    "                    if bad_idx != -1:\n",
    "                        bad_val = extra.pop(bad_idx)\n",
    "                        update = update[:i] + [bad_val] + extra\n",
    "                except ValueError:\n",
    "                    pass\n",
    "    return update"
   ]
  },
  {
   "cell_type": "code",
   "execution_count": 151,
   "id": "a710305b",
   "metadata": {},
   "outputs": [],
   "source": [
    "fixed_updates = [make_valid(update) for update in bad_updates]\n",
    "s = sum([int(update[len(update)//2]) for update in fixed_updates])\n",
    "puzzle.answer_b = s"
   ]
  },
  {
   "cell_type": "code",
   "execution_count": null,
   "id": "bda86d56",
   "metadata": {},
   "outputs": [],
   "source": []
  }
 ],
 "metadata": {
  "kernelspec": {
   "display_name": "Python 3 (ipykernel)",
   "language": "python",
   "name": "python3"
  },
  "language_info": {
   "codemirror_mode": {
    "name": "ipython",
    "version": 3
   },
   "file_extension": ".py",
   "mimetype": "text/x-python",
   "name": "python",
   "nbconvert_exporter": "python",
   "pygments_lexer": "ipython3",
   "version": "3.11.0"
  }
 },
 "nbformat": 4,
 "nbformat_minor": 5
}
